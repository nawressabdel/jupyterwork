{
  "nbformat": 4,
  "nbformat_minor": 0,
  "metadata": {
    "colab": {
      "name": "object_custom_detection.ipynb",
      "provenance": [],
      "mount_file_id": "1ljpzE-d0_6zycTpbq1dSFymkh0_JbG-a",
      "authorship_tag": "ABX9TyPR0z4N1iEj2HhmPk+SkZDU",
      "include_colab_link": true
    },
    "kernelspec": {
      "name": "python3",
      "display_name": "Python 3"
    },
    "language_info": {
      "name": "python"
    },
    "accelerator": "GPU"
  },
  "cells": [
    {
      "cell_type": "markdown",
      "metadata": {
        "id": "view-in-github",
        "colab_type": "text"
      },
      "source": [
        "<a href=\"https://colab.research.google.com/github/nawressabdel/jupyterwork/blob/main/object_custom_detection.ipynb\" target=\"_parent\"><img src=\"https://colab.research.google.com/assets/colab-badge.svg\" alt=\"Open In Colab\"/></a>"
      ]
    },
    {
      "cell_type": "code",
      "execution_count": null,
      "metadata": {
        "colab": {
          "base_uri": "https://localhost:8080/"
        },
        "id": "Avs9yXeOEfkB",
        "outputId": "5f8038d1-cfb5-4e51-86a1-c427738604d1"
      },
      "outputs": [
        {
          "output_type": "stream",
          "name": "stdout",
          "text": [
            "Drive already mounted at /content/Mydrive; to attempt to forcibly remount, call drive.mount(\"/content/Mydrive\", force_remount=True).\n"
          ]
        }
      ],
      "source": [
        "from google.colab import drive\n",
        "drive.mount('/content/Mydrive')"
      ]
    },
    {
      "cell_type": "code",
      "source": [
        "!ls '/content/Mydrive/MyDrive/yolo_custom_training'"
      ],
      "metadata": {
        "colab": {
          "base_uri": "https://localhost:8080/"
        },
        "id": "6FdQe0dZGPcO",
        "outputId": "ccec7e5d-3ce1-439e-c9c8-d01fb4ad1b87"
      },
      "execution_count": null,
      "outputs": [
        {
          "output_type": "stream",
          "name": "stdout",
          "text": [
            "backup\t   chart_yolov3_custom.png  custom_data.zip  darknet\n",
            "chart.png  custom_data\t\t    custom_weight\n"
          ]
        }
      ]
    },
    {
      "cell_type": "code",
      "source": [
        "#!unzip '/content/Mydrive/MyDrive/yolo_custom_training/custom_data.zip' -d '/content/Mydrive/MyDrive/yolo_custom_training'"
      ],
      "metadata": {
        "id": "_k5vuRsrGeXH"
      },
      "execution_count": null,
      "outputs": []
    },
    {
      "cell_type": "code",
      "source": [
        "#! git clone 'https://github.com/AlexeyAB/darknet/' '/content/Mydrive/MyDrive/yolo_custom_training/darknet'"
      ],
      "metadata": {
        "id": "aJ_WRb0mHG3Y"
      },
      "execution_count": null,
      "outputs": []
    },
    {
      "cell_type": "code",
      "source": [
        "%cd /content/Mydrive/MyDrive/yolo_custom_training/darknet"
      ],
      "metadata": {
        "colab": {
          "base_uri": "https://localhost:8080/"
        },
        "id": "ymAwAz-7HGsX",
        "outputId": "4b97718f-fdde-4f1b-ebf0-f0c0be4042c0"
      },
      "execution_count": null,
      "outputs": [
        {
          "output_type": "stream",
          "name": "stdout",
          "text": [
            "/content/Mydrive/MyDrive/yolo_custom_training/darknet\n"
          ]
        }
      ]
    },
    {
      "cell_type": "code",
      "source": [
        "!make"
      ],
      "metadata": {
        "id": "bIOubGA8HGem"
      },
      "execution_count": null,
      "outputs": []
    },
    {
      "cell_type": "code",
      "source": [
        "%cd /content/Mydrive/MyDrive/yolo_custom_training"
      ],
      "metadata": {
        "colab": {
          "base_uri": "https://localhost:8080/"
        },
        "id": "7PIqi92cLBFO",
        "outputId": "58e3cdc1-7ac3-4336-85b5-458c77520b25"
      },
      "execution_count": null,
      "outputs": [
        {
          "output_type": "stream",
          "name": "stdout",
          "text": [
            "/content/Mydrive/MyDrive/yolo_custom_training\n"
          ]
        }
      ]
    },
    {
      "cell_type": "code",
      "source": [
        "!python '/content/Mydrive/MyDrive/yolo_custom_training/custom_data/creating-files-data-and-name .py'"
      ],
      "metadata": {
        "id": "ATF3a-vBLKv7"
      },
      "execution_count": null,
      "outputs": []
    },
    {
      "cell_type": "code",
      "source": [
        "!python '/content/Mydrive/MyDrive/yolo_custom_training/custom_data/creating-train-and-test-txt-files.py'"
      ],
      "metadata": {
        "id": "qkhwLRMoLKnj"
      },
      "execution_count": null,
      "outputs": []
    },
    {
      "cell_type": "code",
      "source": [
        "!darknet/darknet detector train custom_data/labelled_data.data '/content/Mydrive/MyDrive/yolo_custom_training/darknet/cfg/yolov3_custom .cfg' '/content/Mydrive/MyDrive/yolo_custom_training/custom_weight/darknet53.conv.74' -dont_show -map"
      ],
      "metadata": {
        "id": "u_S16d34LKhZ"
      },
      "execution_count": null,
      "outputs": []
    },
    {
      "cell_type": "code",
      "source": [
        "!darknet/darknet"
      ],
      "metadata": {
        "id": "kRgynQsTWYGj"
      },
      "execution_count": null,
      "outputs": []
    }
  ]
}